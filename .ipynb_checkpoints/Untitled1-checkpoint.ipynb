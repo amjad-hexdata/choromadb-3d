{
 "cells": [
  {
   "cell_type": "code",
   "execution_count": 1,
   "id": "114e1838-7104-4aba-8016-05a7e1ca3540",
   "metadata": {},
   "outputs": [],
   "source": [
    "import chromadb\n",
    "from chromadb.config import Settings\n",
    "import gradio as gr\n",
    "client = chromadb.HttpClient(host=\"localhost\", port=8000)  # For Docker\n",
    "# client = chromadb.PersistentClient(path=\"/path/to/db\")  # For local files\n",
    "collection = client.get_or_create_collection(name=\"personal_collection\")"
   ]
  },
  {
   "cell_type": "code",
   "execution_count": 2,
   "id": "aec403c6-92b3-4218-bf76-cbe214a1ba61",
   "metadata": {},
   "outputs": [],
   "source": [
    "collection.add(\n",
    "    documents=[\n",
    "        \"This is a document about machine learning\",\n",
    "        \"This is another document about data science\",\n",
    "        \"A third document about artificial intelligence\"\n",
    "    ],\n",
    "    metadatas=[\n",
    "        {\"source\": \"test1\"},\n",
    "        {\"source\": \"test2\"},\n",
    "        {\"source\": \"test3\"}\n",
    "    ],\n",
    "    ids=[\n",
    "        \"id1\",\n",
    "        \"id2\",\n",
    "        \"id3\"\n",
    "    ]\n",
    ")"
   ]
  },
  {
   "cell_type": "code",
   "execution_count": 5,
   "id": "32327eb6-4cae-4414-b0d0-06e415fefac1",
   "metadata": {},
   "outputs": [
    {
     "data": {
      "text/plain": [
       "{'ids': [['id1', 'id2', 'id3']],\n",
       " 'distances': [[0.37285134099327794, 0.8774228067207359, 0.9194898763035735]],\n",
       " 'embeddings': None,\n",
       " 'metadatas': [[{'source': 'test1'},\n",
       "   {'source': 'test2'},\n",
       "   {'source': 'test3'}]],\n",
       " 'documents': [['This is a document about machine learning',\n",
       "   'This is another document about data science',\n",
       "   'A third document about artificial intelligence']],\n",
       " 'uris': None,\n",
       " 'data': None,\n",
       " 'included': ['distances', 'documents', 'metadatas']}"
      ]
     },
     "execution_count": 5,
     "metadata": {},
     "output_type": "execute_result"
    }
   ],
   "source": [
    "def qry (chromaqry):\n",
    "    results = collection.query(query_texts=[chromaqry],n_results=5)\n",
    "    return results"
   ]
  },
  {
   "cell_type": "code",
   "execution_count": 6,
   "id": "849a3f8d-12c7-43f8-a706-7fbc83dad180",
   "metadata": {},
   "outputs": [
    {
     "ename": "NameError",
     "evalue": "name 'gr' is not defined",
     "output_type": "error",
     "traceback": [
      "\u001b[1;31m---------------------------------------------------------------------------\u001b[0m",
      "\u001b[1;31mNameError\u001b[0m                                 Traceback (most recent call last)",
      "Cell \u001b[1;32mIn[6], line 1\u001b[0m\n\u001b[1;32m----> 1\u001b[0m demo \u001b[38;5;241m=\u001b[39m \u001b[43mgr\u001b[49m\u001b[38;5;241m.\u001b[39mInterface(\n\u001b[0;32m      2\u001b[0m     fn\u001b[38;5;241m=\u001b[39mqry,\n\u001b[0;32m      3\u001b[0m     inputs\u001b[38;5;241m=\u001b[39m[\u001b[38;5;124m\"\u001b[39m\u001b[38;5;124mtext\u001b[39m\u001b[38;5;124m\"\u001b[39m],\n\u001b[0;32m      4\u001b[0m     outputs\u001b[38;5;241m=\u001b[39m[\u001b[38;5;124m\"\u001b[39m\u001b[38;5;124mtext\u001b[39m\u001b[38;5;124m\"\u001b[39m],\n\u001b[0;32m      5\u001b[0m )\n\u001b[0;32m      7\u001b[0m demo\u001b[38;5;241m.\u001b[39mlaunch(share\u001b[38;5;241m=\u001b[39m\u001b[38;5;28;01mTrue\u001b[39;00m)\n",
      "\u001b[1;31mNameError\u001b[0m: name 'gr' is not defined"
     ]
    }
   ],
   "source": [
    "demo = gr.Interface(\n",
    "    fn=qry,\n",
    "    inputs=[\"text\"],\n",
    "    outputs=[\"text\"],\n",
    ")\n",
    "\n",
    "demo.launch(share=True)"
   ]
  },
  {
   "cell_type": "code",
   "execution_count": null,
   "id": "66431dd6-890c-4222-b195-e33c7b8e9e6f",
   "metadata": {},
   "outputs": [],
   "source": []
  }
 ],
 "metadata": {
  "kernelspec": {
   "display_name": "Python 3 (ipykernel)",
   "language": "python",
   "name": "python3"
  },
  "language_info": {
   "codemirror_mode": {
    "name": "ipython",
    "version": 3
   },
   "file_extension": ".py",
   "mimetype": "text/x-python",
   "name": "python",
   "nbconvert_exporter": "python",
   "pygments_lexer": "ipython3",
   "version": "3.11.11"
  }
 },
 "nbformat": 4,
 "nbformat_minor": 5
}
