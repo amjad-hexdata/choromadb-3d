{
 "cells": [
  {
   "cell_type": "code",
   "execution_count": 6,
   "id": "9684b6d0-aa6c-4f14-87f1-e7db418dbb83",
   "metadata": {},
   "outputs": [],
   "source": [
    "import chromadb\n",
    "from chromadb.config import Settings\n",
    "import gradio as gr\n",
    "\n",
    "client = chromadb.HttpClient(host=\"localhost\", port=8000)  # For Docker\n",
    "# client = chromadb.PersistentClient(path=\"/path/to/db\")  # For local files\n",
    "collection = client.get_or_create_collection(name=\"HEXDATA-COLLECTION\")"
   ]
  },
  {
   "cell_type": "code",
   "execution_count": 7,
   "id": "3c511e52-e610-4f41-a25d-3ce3cea6b52a",
   "metadata": {},
   "outputs": [],
   "source": [
    "client = chromadb.Client()"
   ]
  },
  {
   "cell_type": "code",
   "execution_count": 8,
   "id": "658df4a7-381c-4971-9fb5-112fddaa1b1d",
   "metadata": {},
   "outputs": [
    {
     "name": "stdout",
     "output_type": "stream",
     "text": [
      "{'ids': [], 'embeddings': None, 'metadatas': [], 'documents': [], 'data': None, 'uris': None, 'included': ['documents', 'metadatas']}\n"
     ]
    }
   ],
   "source": [
    "print (collection.get())"
   ]
  },
  {
   "cell_type": "code",
   "execution_count": null,
   "id": "5acf4a0c-a8f7-4464-a360-146dbdba0694",
   "metadata": {},
   "outputs": [],
   "source": []
  }
 ],
 "metadata": {
  "kernelspec": {
   "display_name": "Python 3 (ipykernel)",
   "language": "python",
   "name": "python3"
  },
  "language_info": {
   "codemirror_mode": {
    "name": "ipython",
    "version": 3
   },
   "file_extension": ".py",
   "mimetype": "text/x-python",
   "name": "python",
   "nbconvert_exporter": "python",
   "pygments_lexer": "ipython3",
   "version": "3.11.11"
  }
 },
 "nbformat": 4,
 "nbformat_minor": 5
}
